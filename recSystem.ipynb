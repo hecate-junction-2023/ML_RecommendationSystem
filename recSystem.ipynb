{
 "cells": [
  {
   "cell_type": "markdown",
   "metadata": {},
   "source": [
    "# A Recommendation Engine for The Recipes by Using Collaborative Filtering in Python"
   ]
  },
  {
   "cell_type": "markdown",
   "source": [
    "#### About the Dataset:\n",
    "pre-existing dataset for food.com from Kaggle, which includes two CSV files. One is the interactions_train CSV file containing around 160,000 recipe IDs rated by 25,000 user IDs in a total of 699,000 records, and the other is the RAW_recipes CSV file containing 230,000 recipes with names, ingredients, description, and steps, etc."
   ],
   "metadata": {
    "collapsed": false
   }
  },
  {
   "cell_type": "code",
   "execution_count": 1,
   "outputs": [],
   "source": [
    "import numpy as np\n",
    "import pandas as pd\n",
    "from sklearn.model_selection import train_test_split\n",
    "from sklearn.metrics.pairwise import pairwise_distances"
   ],
   "metadata": {
    "collapsed": false,
    "ExecuteTime": {
     "end_time": "2023-11-11T18:08:20.920136100Z",
     "start_time": "2023-11-11T18:08:19.466604600Z"
    }
   }
  },
  {
   "cell_type": "code",
   "execution_count": 2,
   "metadata": {
    "scrolled": true,
    "ExecuteTime": {
     "end_time": "2023-11-11T18:08:26.009140200Z",
     "start_time": "2023-11-11T18:08:20.921135800Z"
    }
   },
   "outputs": [],
   "source": [
    "interactions_data = pd.read_csv('./Data_Source/interactions_train.csv')\n",
    "recipes_data = pd.read_csv('./Data_Source/RAW_recipes.csv')"
   ]
  },
  {
   "cell_type": "markdown",
   "metadata": {},
   "source": [
    "## Clean up the data"
   ]
  },
  {
   "cell_type": "markdown",
   "source": [
    "We reate a new DataFrame _all by dropping unnecessary columns ('date', 'u', 'i') from the 'interactions_train.csv' dataset."
   ],
   "metadata": {
    "collapsed": false
   }
  },
  {
   "cell_type": "code",
   "execution_count": 3,
   "metadata": {
    "scrolled": true,
    "ExecuteTime": {
     "end_time": "2023-11-11T18:08:26.024995600Z",
     "start_time": "2023-11-11T18:08:26.012137300Z"
    }
   },
   "outputs": [],
   "source": [
    "interactions_data_new = interactions_data.drop(['date', 'u', 'i'], axis = 1)"
   ]
  },
  {
   "cell_type": "markdown",
   "source": [
    "We group the data by 'user_id', count the number of recipes each user has reviewed, rename the column, and select the top 7500 users based on the number of reviews."
   ],
   "metadata": {
    "collapsed": false
   }
  },
  {
   "cell_type": "code",
   "execution_count": 4,
   "metadata": {
    "scrolled": true,
    "ExecuteTime": {
     "end_time": "2023-11-11T18:08:26.059036200Z",
     "start_time": "2023-11-11T18:08:26.026289300Z"
    }
   },
   "outputs": [],
   "source": [
    "grouped_users = interactions_data_new.groupby(['user_id'], as_index = False, sort = False).agg({'recipe_id':'count'}).reset_index(drop = True)\n",
    "grouped_users = grouped_users.rename(columns = {'recipe_id':'reviews_count'})\n",
    "grouped_users = grouped_users.sort_values('reviews_count', ascending = False).iloc[:7500,:]"
   ]
  },
  {
   "cell_type": "markdown",
   "source": [
    "Similarly, we group the data by 'recipe_id', count the number of reviews for each recipe, rename the column, and select the top 7500 recipes based on the number of reviews."
   ],
   "metadata": {
    "collapsed": false
   }
  },
  {
   "cell_type": "code",
   "execution_count": 5,
   "metadata": {
    "scrolled": true,
    "ExecuteTime": {
     "end_time": "2023-11-11T18:08:26.503759900Z",
     "start_time": "2023-11-11T18:08:26.446193500Z"
    }
   },
   "outputs": [],
   "source": [
    "grouped_recipes = interactions_data_new.groupby(['recipe_id'], as_index = False, sort = False).agg({'user_id':'count'}).reset_index(drop = True)\n",
    "grouped_recipes = grouped_recipes.rename(columns = {'user_id':'reviews_count'})\n",
    "grouped_recipes = grouped_recipes.sort_values('reviews_count', ascending = False).iloc[:7500,:]"
   ]
  },
  {
   "cell_type": "markdown",
   "source": [
    "We merge the original data with the user and recipe information, removing unnecessary columns."
   ],
   "metadata": {
    "collapsed": false
   }
  },
  {
   "cell_type": "code",
   "execution_count": 6,
   "metadata": {
    "scrolled": false,
    "ExecuteTime": {
     "end_time": "2023-11-11T18:08:30.127095700Z",
     "start_time": "2023-11-11T18:08:29.959511600Z"
    }
   },
   "outputs": [],
   "source": [
    "merged_data = pd.merge(interactions_data_new.merge(grouped_users).drop(['reviews_count'], axis = 1), grouped_recipes).drop(['reviews_count'], axis = 1)"
   ]
  },
  {
   "cell_type": "markdown",
   "source": [
    "The following lines create new DataFrames, grouped_user and grouped_recipe, by grouping data by user and recipe and counting the number of reviews for each."
   ],
   "metadata": {
    "collapsed": false
   }
  },
  {
   "cell_type": "code",
   "execution_count": 7,
   "metadata": {
    "scrolled": true,
    "ExecuteTime": {
     "end_time": "2023-11-11T18:08:32.409215100Z",
     "start_time": "2023-11-11T18:08:32.387127500Z"
    }
   },
   "outputs": [],
   "source": [
    "grouped_user = merged_data.groupby(['user_id'], as_index = False, sort = False).agg({'recipe_id':'count'}).reset_index(drop = True)\n",
    "grouped_user = grouped_user.rename(columns = {'recipe_id':'reviews_count'})\n",
    "\n",
    "grouped_recipe = merged_data.groupby(['recipe_id'], as_index = False, sort = False).agg({'user_id':'count'}).reset_index(drop = True)\n",
    "grouped_recipe = grouped_recipe.rename(columns = {'user_id':'reviews_count'})"
   ]
  },
  {
   "cell_type": "markdown",
   "source": [
    "These lines create dictionaries to map original user and recipe IDs to new IDs."
   ],
   "metadata": {
    "collapsed": false
   }
  },
  {
   "cell_type": "code",
   "execution_count": 8,
   "metadata": {
    "scrolled": true,
    "ExecuteTime": {
     "end_time": "2023-11-11T18:08:34.458432300Z",
     "start_time": "2023-11-11T18:08:34.399077800Z"
    }
   },
   "outputs": [
    {
     "data": {
      "text/plain": "{2312: 0,\n 11044: 1,\n 9869: 2,\n 22655: 3,\n 26313: 4,\n 25455: 5,\n 25792: 6,\n 10033: 7,\n 8688: 8,\n 28397: 9,\n 29014: 10,\n 30209: 11,\n 29063: 12,\n 42058: 13,\n 43505: 14,\n 32772: 15,\n 60989: 16,\n 55589: 17,\n 64583: 18,\n 30228: 19,\n 76074: 20,\n 85714: 21,\n 88717: 22,\n 96436: 23,\n 93997: 24,\n 25941: 25,\n 101376: 26,\n 59588: 27,\n 98919: 28,\n 92641: 29,\n 111347: 30,\n 91584: 31,\n 126104: 32,\n 60716: 33,\n 135887: 34,\n 121852: 35,\n 122175: 36,\n 144671: 37,\n 148715: 38,\n 130513: 39,\n 140806: 40,\n 155675: 41,\n 155595: 42,\n 142386: 43,\n 162086: 44,\n 163601: 45,\n 172369: 46,\n 168087: 47,\n 162725: 48,\n 184081: 49,\n 188119: 50,\n 189475: 51,\n 99221: 52,\n 186979: 53,\n 194611: 54,\n 203111: 55,\n 201064: 56,\n 207375: 57,\n 207176: 58,\n 215350: 59,\n 218535: 60,\n 217226: 61,\n 215260: 62,\n 227039: 63,\n 224088: 64,\n 124268: 65,\n 143721: 66,\n 235074: 67,\n 203741: 68,\n 257993: 69,\n 259154: 70,\n 145130: 71,\n 246482: 72,\n 269891: 73,\n 297557: 74,\n 272300: 75,\n 302961: 76,\n 267665: 77,\n 307059: 78,\n 315635: 79,\n 258223: 80,\n 298447: 81,\n 320843: 82,\n 200115: 83,\n 300721: 84,\n 330505: 85,\n 336540: 86,\n 316809: 87,\n 214008: 88,\n 225896: 89,\n 311926: 90,\n 317696: 91,\n 357293: 92,\n 338515: 93,\n 358095: 94,\n 368078: 95,\n 357323: 96,\n 383346: 97,\n 394288: 98,\n 394077: 99,\n 421374: 100,\n 385423: 101,\n 441443: 102,\n 453856: 103,\n 354881: 104,\n 432917: 105,\n 165169: 106,\n 471300: 107,\n 482376: 108,\n 512696: 109,\n 489552: 110,\n 493276: 111,\n 519896: 112,\n 494990: 113,\n 536962: 114,\n 289510: 115,\n 501778: 116,\n 560491: 117,\n 465524: 118,\n 564378: 119,\n 452940: 120,\n 583809: 121,\n 574083: 122,\n 589777: 123,\n 585739: 124,\n 486078: 125,\n 526379: 126,\n 629158: 127,\n 630047: 128,\n 535633: 129,\n 720912: 130,\n 708727: 131,\n 742029: 132,\n 743849: 133,\n 777092: 134,\n 680747: 135,\n 336563: 136,\n 777453: 137,\n 679719: 138,\n 815198: 139,\n 829250: 140,\n 836165: 141,\n 847160: 142,\n 475397: 143,\n 824052: 144,\n 862099: 145,\n 765437: 146,\n 599741: 147,\n 937635: 148,\n 645143: 149,\n 668861: 150,\n 151991: 151,\n 904483: 152,\n 870928: 153,\n 364863: 154,\n 1117099: 155,\n 1052873: 156,\n 1126368: 157,\n 1328942: 158,\n 1252036: 159,\n 636029: 160,\n 878983: 161,\n 1581225: 162,\n 1623265: 163,\n 1677099: 164,\n 2754389: 165,\n 2000391889: 166,\n 47510: 167,\n 58836: 168,\n 172861: 169,\n 176615: 170,\n 209942: 171,\n 229850: 172,\n 257146: 173,\n 274065: 174,\n 269331: 175,\n 232532: 176,\n 242846: 177,\n 192852: 178,\n 426156: 179,\n 589581: 180,\n 648343: 181,\n 697860: 182,\n 830551: 183,\n 1516722: 184,\n 8377: 185,\n 18391: 186,\n 29291: 187,\n 37077: 188,\n 67656: 189,\n 87563: 190,\n 59144: 191,\n 165528: 192,\n 65197: 193,\n 154853: 194,\n 4470: 195,\n 5060: 196,\n 37950: 197,\n 38418: 198,\n 37022: 199,\n 14664: 200,\n 46660: 201,\n 50441: 202,\n 54678: 203,\n 68503: 204,\n 53932: 205,\n 142367: 206,\n 146486: 207,\n 134875: 208,\n 140028: 209,\n 173579: 210,\n 189160: 211,\n 199198: 212,\n 198154: 213,\n 330937: 214,\n 331557: 215,\n 344069: 216,\n 481092: 217,\n 529049: 218,\n 338323: 219,\n 751979: 220,\n 1365025: 221,\n 374891: 222,\n 16459: 223,\n 35106: 224,\n 32570: 225,\n 40620: 226,\n 24386: 227,\n 68588: 228,\n 88099: 229,\n 64203: 230,\n 92816: 231,\n 92184: 232,\n 115853: 233,\n 128473: 234,\n 126440: 235,\n 1535: 236,\n 106501: 237,\n 187281: 238,\n 199708: 239,\n 187373: 240,\n 240958: 241,\n 185926: 242,\n 270514: 243,\n 254614: 244,\n 240668: 245,\n 319609: 246,\n 345731: 247,\n 358796: 248,\n 457907: 249,\n 462336: 250,\n 460301: 251,\n 335355: 252,\n 481464: 253,\n 503916: 254,\n 537188: 255,\n 353379: 256,\n 549519: 257,\n 549460: 258,\n 503763: 259,\n 335571: 260,\n 496829: 261,\n 429544: 262,\n 704950: 263,\n 789516: 264,\n 346383: 265,\n 841981: 266,\n 877111: 267,\n 762767: 268,\n 902736: 269,\n 750003: 270,\n 1060667: 271,\n 178427: 272,\n 1116488: 273,\n 1136448: 274,\n 1443020: 275,\n 1462970: 276,\n 2868191: 277,\n 6357: 278,\n 13029: 279,\n 52125: 280,\n 55966: 281,\n 58104: 282,\n 38024: 283,\n 129177: 284,\n 149363: 285,\n 179133: 286,\n 227652: 287,\n 237624: 288,\n 230258: 289,\n 246375: 290,\n 274866: 291,\n 229145: 292,\n 305664: 293,\n 372791: 294,\n 663171: 295,\n 885024: 296,\n 1049139: 297,\n 377366: 298,\n 1911882: 299,\n 31232: 300,\n 33159: 301,\n 18742: 302,\n 55850: 303,\n 56087: 304,\n 23102: 305,\n 59163: 306,\n 59886: 307,\n 59780: 308,\n 90767: 309,\n 92290: 310,\n 51109: 311,\n 106282: 312,\n 117781: 313,\n 72243: 314,\n 121041: 315,\n 119481: 316,\n 109404: 317,\n 125923: 318,\n 140132: 319,\n 141980: 320,\n 97780: 321,\n 119466: 322,\n 168423: 323,\n 185285: 324,\n 222564: 325,\n 230557: 326,\n 241882: 327,\n 241696: 328,\n 225853: 329,\n 281701: 330,\n 294000: 331,\n 57042: 332,\n 443975: 333,\n 486888: 334,\n 536944: 335,\n 663892: 336,\n 718620: 337,\n 801264: 338,\n 874900: 339,\n 1016844: 340,\n 27452: 341,\n 30080: 342,\n 58892: 343,\n 63260: 344,\n 69260: 345,\n 103628: 346,\n 126037: 347,\n 130730: 348,\n 130819: 349,\n 128803: 350,\n 116009: 351,\n 158086: 352,\n 160331: 353,\n 148490: 354,\n 171063: 355,\n 191533: 356,\n 227831: 357,\n 219318: 358,\n 340980: 359,\n 350812: 360,\n 388414: 361,\n 485329: 362,\n 553303: 363,\n 620763: 364,\n 706608: 365,\n 914720: 366,\n 2426491: 367,\n 2178: 368,\n 51686: 369,\n 55690: 370,\n 74652: 371,\n 63128: 372,\n 224235: 373,\n 246344: 374,\n 138415: 375,\n 243474: 376,\n 358698: 377,\n 593927: 378,\n 56003: 379,\n 86512: 380,\n 63024: 381,\n 165206: 382,\n 909692: 383,\n 1131605: 384,\n 443407: 385,\n 27643: 386,\n 24323: 387,\n 15820: 388,\n 28649: 389,\n 35848: 390,\n 38745: 391,\n 4657: 392,\n 36944: 393,\n 41809: 394,\n 58038: 395,\n 62043: 396,\n 150727: 397,\n 160205: 398,\n 195175: 399,\n 34834: 400,\n 372937: 401,\n 448204: 402,\n 491095: 403,\n 593424: 404,\n 497077: 405,\n 852529: 406,\n 7308: 407,\n 52543: 408,\n 57898: 409,\n 60304: 410,\n 65720: 411,\n 57222: 412,\n 91392: 413,\n 47892: 414,\n 126602: 415,\n 82908: 416,\n 171854: 417,\n 222970: 418,\n 215062: 419,\n 242205: 420,\n 137838: 421,\n 241140: 422,\n 259006: 423,\n 285867: 424,\n 94355: 425,\n 278516: 426,\n 315671: 427,\n 341513: 428,\n 403428: 429,\n 438568: 430,\n 356620: 431,\n 464327: 432,\n 539686: 433,\n 565592: 434,\n 579298: 435,\n 644191: 436,\n 800480: 437,\n 810787: 438,\n 849727: 439,\n 645231: 440,\n 1128874: 441,\n 1415433: 442,\n 13063: 443,\n 2586: 444,\n 42062: 445,\n 59608: 446,\n 72483: 447,\n 80079: 448,\n 129255: 449,\n 121185: 450,\n 143387: 451,\n 157102: 452,\n 146284: 453,\n 178504: 454,\n 263542: 455,\n 291188: 456,\n 6512: 457,\n 6836: 458,\n 31316: 459,\n 47559: 460,\n 51652: 461,\n 55655: 462,\n 67835: 463,\n 68727: 464,\n 93006: 465,\n 89831: 466,\n 105601: 467,\n 101732: 468,\n 136465: 469,\n 138686: 470,\n 159084: 471,\n 132383: 472,\n 168037: 473,\n 177933: 474,\n 231054: 475,\n 288143: 476,\n 229237: 477,\n 180406: 478,\n 300755: 479,\n 181654: 480,\n 369715: 481,\n 623331: 482,\n 1175380: 483,\n 529949: 484,\n 7802: 485,\n 18660: 486,\n 17608: 487,\n 9580: 488,\n 27385: 489,\n 31558: 490,\n 28177: 491,\n 31499: 492,\n 37275: 493,\n 30893: 494,\n 37106: 495,\n 39389: 496,\n 50229: 497,\n 37147: 498,\n 68210: 499,\n 57589: 500,\n 97579: 501,\n 68960: 502,\n 50841: 503,\n 151418: 504,\n 159488: 505,\n 57162: 506,\n 200862: 507,\n 162775: 508,\n 203325: 509,\n 296085: 510,\n 274467: 511,\n 240552: 512,\n 226867: 513,\n 228375: 514,\n 667915: 515,\n 879350: 516,\n 1048425: 517,\n 723525: 518,\n 21752: 519,\n 25784: 520,\n 37183: 521,\n 41706: 522,\n 44642: 523,\n 55729: 524,\n 60221: 525,\n 78808: 526,\n 88378: 527,\n 95743: 528,\n 50472: 529,\n 121354: 530,\n 360437: 531,\n 846829: 532,\n 27678: 533,\n 37779: 534,\n 49360: 535,\n 49937: 536,\n 50643: 537,\n 60020: 538,\n 62085: 539,\n 71288: 540,\n 86318: 541,\n 78682: 542,\n 147027: 543,\n 160974: 544,\n 193516: 545,\n 236959: 546,\n 219865: 547,\n 166636: 548,\n 35414: 549,\n 45524: 550,\n 62494: 551,\n 65634: 552,\n 106777: 553,\n 133174: 554,\n 175124: 555,\n 188837: 556,\n 29404: 557,\n 114105: 558,\n 312577: 559,\n 280166: 560,\n 439797: 561,\n 492314: 562,\n 546010: 563,\n 597546: 564,\n 790962: 565,\n 815244: 566,\n 1222615: 567,\n 1783373: 568,\n 12882: 569,\n 28846: 570,\n 35140: 571,\n 46545: 572,\n 46840: 573,\n 53123: 574,\n 57256: 575,\n 56061: 576,\n 60694: 577,\n 68460: 578,\n 8606: 579,\n 80353: 580,\n 75846: 581,\n 101914: 582,\n 50182: 583,\n 191436: 584,\n 185446: 585,\n 296809: 586,\n 239758: 587,\n 402559: 588,\n 835419: 589,\n 81611: 590,\n 28168: 591,\n 307214: 592,\n 305147: 593,\n 372163: 594,\n 348523: 595,\n 546022: 596,\n 744898: 597,\n 679759: 598,\n 601015: 599,\n 1175362: 600,\n 2920332: 601,\n 58515: 602,\n 129836: 603,\n 115758: 604,\n 192581: 605,\n 209318: 606,\n 119322: 607,\n 686329: 608,\n 714171: 609,\n 562865: 610,\n 823189: 611,\n 391624: 612,\n 111163: 613,\n 121581: 614,\n 157248: 615,\n 181781: 616,\n 232669: 617,\n 323186: 618,\n 329753: 619,\n 395252: 620,\n 422608: 621,\n 512309: 622,\n 56130: 623,\n 57400: 624,\n 58229: 625,\n 29418: 626,\n 128646: 627,\n 177083: 628,\n 121582: 629,\n 227607: 630,\n 287829: 631,\n 290614: 632,\n 305187: 633,\n 378258: 634,\n 378488: 635,\n 395482: 636,\n 401564: 637,\n 354878: 638,\n 566005: 639,\n 600105: 640,\n 797028: 641,\n 960709: 642,\n 904658: 643,\n 27783: 644,\n 37305: 645,\n 39934: 646,\n 25996: 647,\n 58300: 648,\n 53171: 649,\n 98861: 650,\n 115321: 651,\n 124434: 652,\n 111313: 653,\n 131674: 654,\n 129652: 655,\n 123675: 656,\n 11176: 657,\n 189191: 658,\n 296546: 659,\n 335469: 660,\n 386447: 661,\n 489929: 662,\n 517198: 663,\n 383206: 664,\n 516537: 665,\n 900992: 666,\n 969481: 667,\n 25467: 668,\n 6651: 669,\n 60260: 670,\n 74281: 671,\n 83541: 672,\n 74904: 673,\n 87023: 674,\n 94168: 675,\n 87870: 676,\n 104599: 677,\n 121840: 678,\n 122001: 679,\n 51613: 680,\n 125325: 681,\n 134289: 682,\n 177753: 683,\n 188305: 684,\n 189616: 685,\n 73988: 686,\n 195212: 687,\n 92913: 688,\n 199020: 689,\n 126032: 690,\n 208631: 691,\n 229940: 692,\n 55392: 693,\n 214444: 694,\n 242856: 695,\n 267853: 696,\n 250440: 697,\n 306106: 698,\n 289680: 699,\n 319738: 700,\n 133547: 701,\n 318028: 702,\n 194829: 703,\n 415204: 704,\n 65025: 705,\n 375111: 706,\n 444534: 707,\n 452355: 708,\n 382123: 709,\n 545825: 710,\n 580608: 711,\n 693345: 712,\n 602448: 713,\n 718022: 714,\n 601753: 715,\n 841067: 716,\n 837451: 717,\n 772912: 718,\n 378553: 719,\n 942707: 720,\n 451574: 721,\n 934824: 722,\n 1187404: 723,\n 695102: 724,\n 1329782: 725,\n 1686460: 726,\n 2310: 727,\n 67026: 728,\n 48136: 729,\n 103876: 730,\n 192908: 731,\n 198059: 732,\n 283251: 733,\n 333017: 734,\n 400420: 735,\n 424741: 736,\n 432668: 737,\n 500860: 738,\n 540346: 739,\n 683666: 740,\n 860079: 741,\n 885979: 742,\n 876385: 743,\n 1176241: 744,\n 3288: 745,\n 8629: 746,\n 7108: 747,\n 29667: 748,\n 32265: 749,\n 34122: 750,\n 37449: 751,\n 38513: 752,\n 37722: 753,\n 30503: 754,\n 25177: 755,\n 51224: 756,\n 53868: 757,\n 43413: 758,\n 54697: 759,\n 39311: 760,\n 56463: 761,\n 62086: 762,\n 64642: 763,\n 66983: 764,\n 29244: 765,\n 92886: 766,\n 94243: 767,\n 93446: 768,\n 52262: 769,\n 76535: 770,\n 76951: 771,\n 110875: 772,\n 132010: 773,\n 130531: 774,\n 40135: 775,\n 141569: 776,\n 141277: 777,\n 145097: 778,\n 87109: 779,\n 146047: 780,\n 145352: 781,\n 107334: 782,\n 125640: 783,\n 47907: 784,\n 171303: 785,\n 174096: 786,\n 178742: 787,\n 193709: 788,\n 199418: 789,\n 163112: 790,\n 186070: 791,\n 173306: 792,\n 192264: 793,\n 199207: 794,\n 115957: 795,\n 217726: 796,\n 177638: 797,\n 187918: 798,\n 225903: 799,\n 207257: 800,\n 232667: 801,\n 237123: 802,\n 238619: 803,\n 238364: 804,\n 197992: 805,\n 242809: 806,\n 254446: 807,\n 223979: 808,\n 231198: 809,\n 262090: 810,\n 222433: 811,\n 259150: 812,\n 275075: 813,\n 245429: 814,\n 285039: 815,\n 285687: 816,\n 268426: 817,\n 56905: 818,\n 248023: 819,\n 299685: 820,\n 304290: 821,\n 226863: 822,\n 311203: 823,\n 291568: 824,\n 232190: 825,\n 311003: 826,\n 337963: 827,\n 291306: 828,\n 220433: 829,\n 256795: 830,\n 310749: 831,\n 302618: 832,\n 346860: 833,\n 319943: 834,\n 356062: 835,\n 326039: 836,\n 172114: 837,\n 347822: 838,\n 362983: 839,\n 366048: 840,\n 369566: 841,\n 370200: 842,\n 371738: 843,\n 362986: 844,\n 382071: 845,\n 376098: 846,\n 391048: 847,\n 403729: 848,\n 373817: 849,\n 226417: 850,\n 318235: 851,\n 398275: 852,\n 424680: 853,\n 316717: 854,\n 442988: 855,\n 143917: 856,\n 427184: 857,\n 455970: 858,\n 439685: 859,\n 468146: 860,\n 439066: 861,\n 264017: 862,\n 470799: 863,\n 461472: 864,\n 448004: 865,\n 418179: 866,\n 346221: 867,\n 498271: 868,\n 499050: 869,\n 424494: 870,\n 128945: 871,\n 499305: 872,\n 470351: 873,\n 264012: 874,\n 195589: 875,\n 471652: 876,\n 490367: 877,\n 517900: 878,\n 592646: 879,\n 599568: 880,\n 578177: 881,\n 612948: 882,\n 508249: 883,\n 440735: 884,\n 453440: 885,\n 442070: 886,\n 628127: 887,\n 666829: 888,\n 626018: 889,\n 673444: 890,\n 681465: 891,\n 655603: 892,\n 420177: 893,\n 586022: 894,\n 653438: 895,\n 727964: 896,\n 39782: 897,\n 735704: 898,\n 738401: 899,\n 736554: 900,\n 630268: 901,\n 780028: 902,\n 431961: 903,\n 782050: 904,\n 856902: 905,\n 542159: 906,\n 855206: 907,\n 864044: 908,\n 811594: 909,\n 869532: 910,\n 906665: 911,\n 189674: 912,\n 941715: 913,\n 930021: 914,\n 926169: 915,\n 1012643: 916,\n 749060: 917,\n 1122161: 918,\n 508312: 919,\n 1173570: 920,\n 1187622: 921,\n 973186: 922,\n 1210365: 923,\n 1276731: 924,\n 1292822: 925,\n 1348747: 926,\n 1029636: 927,\n 520644: 928,\n 1324240: 929,\n 982333: 930,\n 315269: 931,\n 1168939: 932,\n 213443: 933,\n 12118: 934,\n 91970: 935,\n 212391: 936,\n 215956: 937,\n 297761: 938,\n 286502: 939,\n 315479: 940,\n 232311: 941,\n 298981: 942,\n 472690: 943,\n 341344: 944,\n 530731: 945,\n 401688: 946,\n 304596: 947,\n 879716: 948,\n 1056712: 949,\n 13483: 950,\n 15851: 951,\n 21487: 952,\n 27629: 953,\n 28455: 954,\n 28201: 955,\n 6258: 956,\n 35526: 957,\n 32907: 958,\n 42586: 959,\n 42217: 960,\n 48762: 961,\n 49304: 962,\n 32724: 963,\n 54753: 964,\n 26075: 965,\n 56680: 966,\n 9670: 967,\n 59064: 968,\n 64682: 969,\n 69267: 970,\n 72489: 971,\n 81511: 972,\n 56919: 973,\n 93163: 974,\n 101823: 975,\n 95114: 976,\n 102519: 977,\n 62491: 978,\n 55380: 979,\n 109547: 980,\n 115506: 981,\n 85573: 982,\n 116371: 983,\n 120619: 984,\n 113509: 985,\n 66008: 986,\n 124416: 987,\n 37456: 988,\n 130663: 989,\n 134624: 990,\n 43642: 991,\n 153750: 992,\n 160947: 993,\n 161897: 994,\n 165933: 995,\n 143218: 996,\n 170972: 997,\n 186071: 998,\n 192849: 999,\n ...}"
     },
     "metadata": {},
     "output_type": "display_data"
    }
   ],
   "source": [
    "new_userID = dict(zip(list(merged_data['user_id'].unique()),\n",
    "                      list(range(len(merged_data['user_id'].unique())))))\n",
    "display(new_userID)\n",
    "\n",
    "new_recipeID = dict(zip(list(merged_data['recipe_id'].unique()),\n",
    "                      list(range(len(merged_data['recipe_id'].unique())))))"
   ]
  },
  {
   "cell_type": "markdown",
   "source": [
    "It replaces the original user and recipe IDs in the dataset with the new IDs."
   ],
   "metadata": {
    "collapsed": false
   }
  },
  {
   "cell_type": "code",
   "execution_count": 9,
   "metadata": {
    "ExecuteTime": {
     "end_time": "2023-11-11T18:08:56.084998500Z",
     "start_time": "2023-11-11T18:08:38.409144800Z"
    }
   },
   "outputs": [],
   "source": [
    "df = merged_data.replace({'user_id': new_userID, 'recipe_id': new_recipeID})"
   ]
  },
  {
   "cell_type": "markdown",
   "source": [
    "We creates a new DataFrame recipe by merging recipe names and ingredients with the updated dataset."
   ],
   "metadata": {
    "collapsed": false
   }
  },
  {
   "cell_type": "code",
   "execution_count": 10,
   "metadata": {
    "scrolled": false,
    "ExecuteTime": {
     "end_time": "2023-11-11T18:08:56.339018500Z",
     "start_time": "2023-11-11T18:08:56.086992400Z"
    }
   },
   "outputs": [],
   "source": [
    "recipe = recipes_data[['name', 'id', 'ingredients']].merge(merged_data[['recipe_id']], left_on = 'id', right_on = 'recipe_id', how = 'right').drop(['id'], axis = 1).drop_duplicates().reset_index(drop = True)"
   ]
  },
  {
   "cell_type": "markdown",
   "source": [
    "Now we calculate the mean rating for each user and add columns for the mean rating and adjusted rating to the dataset."
   ],
   "metadata": {
    "collapsed": false
   }
  },
  {
   "cell_type": "code",
   "execution_count": 11,
   "metadata": {
    "ExecuteTime": {
     "end_time": "2023-11-11T18:08:56.399691Z",
     "start_time": "2023-11-11T18:08:56.342018200Z"
    }
   },
   "outputs": [],
   "source": [
    "mean = df.groupby(['user_id'], as_index = False, sort = False).mean().rename(columns = {'rating':'mean_rating'})\n",
    "df = df.merge(mean[['user_id','mean_rating']], how = 'left')\n",
    "df.insert(2, 'adjusted_rating', df['rating'] - df['mean_rating'])"
   ]
  },
  {
   "cell_type": "markdown",
   "source": [
    "We split the dataset into training and testing sets for model evaluation."
   ],
   "metadata": {
    "collapsed": false
   }
  },
  {
   "cell_type": "code",
   "execution_count": 12,
   "metadata": {
    "scrolled": true,
    "ExecuteTime": {
     "end_time": "2023-11-11T18:08:56.426619Z",
     "start_time": "2023-11-11T18:08:56.402772Z"
    }
   },
   "outputs": [],
   "source": [
    "train_data, test_data = train_test_split(df, test_size = 0.25)"
   ]
  },
  {
   "cell_type": "markdown",
   "source": [
    "These lines create a user-item matrix for the training data, where each entry represents a user's rating for a recipe."
   ],
   "metadata": {
    "collapsed": false
   }
  },
  {
   "cell_type": "code",
   "execution_count": 13,
   "metadata": {
    "ExecuteTime": {
     "end_time": "2023-11-11T18:08:58.322735200Z",
     "start_time": "2023-11-11T18:08:58.036456800Z"
    }
   },
   "outputs": [],
   "source": [
    "number_users = df.user_id.unique()\n",
    "number_items = df.recipe_id.unique()\n",
    "\n",
    "train_data_matrix = np.zeros((number_users.shape[0], number_items.shape[0]))\n",
    "for row in train_data.itertuples():\n",
    "    train_data_matrix[row[1]-1, row[2]-1] = row[3]"
   ]
  },
  {
   "cell_type": "markdown",
   "source": [
    "Similarly, we create a user-item matrix for the testing data."
   ],
   "metadata": {
    "collapsed": false
   }
  },
  {
   "cell_type": "code",
   "execution_count": 14,
   "metadata": {
    "ExecuteTime": {
     "end_time": "2023-11-11T18:09:16.006111500Z",
     "start_time": "2023-11-11T18:09:15.897763700Z"
    }
   },
   "outputs": [],
   "source": [
    "test_data_matrix = np.zeros((number_users.shape[0], number_items.shape[0]))\n",
    "for row in test_data.itertuples():\n",
    "    test_data_matrix[row[1]-1, row[2]-1] = row[3]"
   ]
  },
  {
   "cell_type": "markdown",
   "metadata": {},
   "source": [
    "## Centered cosine similarity"
   ]
  },
  {
   "cell_type": "markdown",
   "source": [
    "We calculates user similarity based on the centered cosine similarity metric."
   ],
   "metadata": {
    "collapsed": false
   }
  },
  {
   "cell_type": "code",
   "execution_count": 15,
   "metadata": {
    "ExecuteTime": {
     "end_time": "2023-11-11T18:09:22.551130200Z",
     "start_time": "2023-11-11T18:09:18.216114100Z"
    }
   },
   "outputs": [],
   "source": [
    "user_similarity = 1 - pairwise_distances(train_data_matrix, metric = 'cosine')"
   ]
  },
  {
   "cell_type": "markdown",
   "metadata": {},
   "source": [
    "## Predict the ratings"
   ]
  },
  {
   "cell_type": "markdown",
   "source": [
    "This function predict takes user ratings, similarity matrix, and type ('user' or 'item') as input and returns the predicted ratings."
   ],
   "metadata": {
    "collapsed": false
   }
  },
  {
   "cell_type": "code",
   "execution_count": 16,
   "metadata": {
    "ExecuteTime": {
     "end_time": "2023-11-11T18:09:22.562522400Z",
     "start_time": "2023-11-11T18:09:22.553933800Z"
    }
   },
   "outputs": [],
   "source": [
    "def predict(ratings, similarity):\n",
    "    pred = similarity.dot(ratings) / np.array([np.abs(similarity).sum(axis = np.newaxis)]) \n",
    "    return pred"
   ]
  },
  {
   "cell_type": "markdown",
   "source": [
    "We generate user-based predictions for the training data."
   ],
   "metadata": {
    "collapsed": false
   }
  },
  {
   "cell_type": "code",
   "execution_count": 18,
   "metadata": {
    "ExecuteTime": {
     "end_time": "2023-11-11T18:09:44.395699400Z",
     "start_time": "2023-11-11T18:09:35.702983700Z"
    }
   },
   "outputs": [],
   "source": [
    "user_pred = predict(train_data_matrix, user_similarity)"
   ]
  },
  {
   "cell_type": "markdown",
   "source": [
    "Next we are creating a DataFrame containing user-based predictions for each recipe."
   ],
   "metadata": {
    "collapsed": false
   }
  },
  {
   "cell_type": "code",
   "execution_count": 19,
   "metadata": {
    "ExecuteTime": {
     "end_time": "2023-11-11T18:09:45.577303800Z",
     "start_time": "2023-11-11T18:09:45.512693400Z"
    }
   },
   "outputs": [],
   "source": [
    "user_pred_df = pd.DataFrame(user_pred, columns = list(number_items))\n",
    "user_pred_df.insert(0, 'user_id', list(number_users))"
   ]
  },
  {
   "cell_type": "markdown",
   "metadata": {},
   "source": [
    "## The recommendation engine"
   ]
  },
  {
   "cell_type": "markdown",
   "source": [
    "This function getRecommendations_UserBased takes a user ID and the number of top recommendations as input and prints the top recommended recipes for that user."
   ],
   "metadata": {
    "collapsed": false
   }
  },
  {
   "cell_type": "code",
   "execution_count": 21,
   "metadata": {
    "ExecuteTime": {
     "end_time": "2023-11-11T18:10:29.651838100Z",
     "start_time": "2023-11-11T18:10:29.642907300Z"
    }
   },
   "outputs": [],
   "source": [
    "def getRecommendations(user_id, top_n = 10):\n",
    "    movie_rated = list(df['recipe_id'].loc[df['user_id'] == user_id])\n",
    "    _all = user_pred_df.loc[user_pred_df['user_id'] == user_id].copy()\n",
    "    _all.drop(user_pred_df[movie_rated], axis = 1, inplace = True)\n",
    "    unwatch_sorted = _all.iloc[:,1:].sort_values(by = _all.index[0], axis = 1, ascending = False)\n",
    "    dict_top_n = unwatch_sorted.iloc[:, :top_n].to_dict(orient = 'records')\n",
    "\n",
    "    i = 1\n",
    "    for recipe_id in list(dict_top_n[0].keys()):\n",
    "        for old_recipe, new_recipe in new_recipeID.items():\n",
    "            if recipe_id == new_recipe:\n",
    "                name = recipe[recipe['recipe_id'] == old_recipe]['name'].values[0]\n",
    "                ingredients = recipe[recipe['recipe_id'] == old_recipe]['ingredients'].values[0]\n",
    "                \n",
    "                print(f'Top {i} Recipe ID: {old_recipe} - {name}\\n Ingredients: {ingredients}\\n')\n",
    "                i += 1              \n",
    "    return dict_top_n[0]"
   ]
  },
  {
   "cell_type": "markdown",
   "source": [
    "It calls the getRecommendations_UserBased function for a specific user ID (702) and displays the top 10 recommendations."
   ],
   "metadata": {
    "collapsed": false
   }
  },
  {
   "cell_type": "code",
   "execution_count": 27,
   "outputs": [
    {
     "name": "stdout",
     "output_type": "stream",
     "text": [
      "Top 10 Recommended Recipes for Original User ID: 11044\n",
      "\n",
      "Top 1 Original Recipe ID: 4571 - layer cookies  magic layer bars\n",
      " Ingredients: ['butter', 'graham cracker', 'flaked coconut', 'chocolate chips', 'butterscotch chips', 'sweetened condensed milk', 'nuts']\n",
      "\n",
      "Top 2 Original Recipe ID: 97838 - super easy honey curry chicken\n",
      " Ingredients: ['chicken thighs', 'butter', 'honey', 'mustard', 'salt', 'curry powder']\n",
      "\n",
      "Top 3 Original Recipe ID: 13640 - mifgash mushrooms\n",
      " Ingredients: ['oil', 'onion', 'button mushroom', 'soup mix', 'paprika', 'black pepper', 'water']\n",
      "\n",
      "Top 4 Original Recipe ID: 68091 - fake rotisserie chicken\n",
      " Ingredients: ['chicken', 'onion', 'lemon', 'tarragon', 'soy sauce']\n",
      "\n",
      "Top 5 Original Recipe ID: 140618 - quinoa tabouli\n",
      " Ingredients: ['water', 'fresh lemon juice', 'quinoa', 'olive oil', 'tomatoes', 'of fresh mint', 'parsley', 'scallion', 'salt']\n",
      "\n",
      "Top 6 Original Recipe ID: 243900 - mom s cocoa powder brownies\n",
      " Ingredients: ['all-purpose flour', 'sugar', 'cocoa', 'salt', 'vegetable oil', 'eggs', 'vanilla', 'nuts']\n",
      "\n",
      "Top 7 Original Recipe ID: 100474 - easy crispy taco turnovers\n",
      " Ingredients: ['lean ground beef', 'onion', 'garlic', 'salt', 'chili powder', 'monterey jack cheese', 'diced tomato', 'jalapenos', 'wheat flour tortillas', 'oil']\n",
      "\n",
      "Top 8 Original Recipe ID: 48494 - baked latkes\n",
      " Ingredients: ['potatoes', 'onion', 'eggs', 'salt', 'matzo meal', 'baking powder', 'nonstick cooking spray']\n",
      "\n",
      "Top 9 Original Recipe ID: 28383 - peas amandine\n",
      " Ingredients: ['frozen peas', 'slivered almonds', 'butter', 'mushrooms', 'onion', 'salt', 'black pepper']\n",
      "\n",
      "Top 10 Original Recipe ID: 94219 - easy foil bbq potatoes\n",
      " Ingredients: ['potato', 'spanish onion', 'butter', 'olive oil', 'salt & fresh ground pepper', 'aluminum foil']\n"
     ]
    }
   ],
   "source": [
    "recommendation2 = getRecommendations(1)"
   ],
   "metadata": {
    "collapsed": false,
    "ExecuteTime": {
     "end_time": "2023-11-11T18:14:05.686333200Z",
     "start_time": "2023-11-11T18:14:05.655468800Z"
    }
   }
  },
  {
   "cell_type": "markdown",
   "source": [
    "Similarly, it calls the getRecommendations_UserBased function for another user ID (408) with a specified number of top 5 recommendations."
   ],
   "metadata": {
    "collapsed": false
   }
  },
  {
   "cell_type": "code",
   "execution_count": 28,
   "metadata": {
    "scrolled": true,
    "ExecuteTime": {
     "end_time": "2023-11-11T18:14:08.782303600Z",
     "start_time": "2023-11-11T18:14:08.759087100Z"
    }
   },
   "outputs": [
    {
     "name": "stdout",
     "output_type": "stream",
     "text": [
      "Top 8 Recommended Recipes for Original User ID: 29063\n",
      "\n",
      "Top 1 Original Recipe ID: 3368 - blackberry pie iii\n",
      " Ingredients: ['sugar', 'all-purpose flour', 'cornstarch', 'salt', 'blackberries', 'pastry for double-crust pie']\n",
      "\n",
      "Top 2 Original Recipe ID: 308022 - summer egg and bacon scramble\n",
      " Ingredients: ['onion', 'red pepper', 'olive oil', 'eggs', 'milk', 'bacon', 'toast', 'salt and pepper']\n",
      "\n",
      "Top 3 Original Recipe ID: 363073 - kristen s grilled cheese and red onion sandwich\n",
      " Ingredients: ['rye bread', 'red onions', 'cheddar cheese', 'butter', 'pepper']\n",
      "\n",
      "Top 4 Original Recipe ID: 273838 - moroccan harira soup\n",
      " Ingredients: ['lentils', 'olive oil', 'onion', 'fresh parsley', 'cilantro', 'ground ginger', 'cinnamon', 'diced tomatoes', 'vegetable broth', 'chickpeas', 'orzo pasta', 'flour', 'lemon juice', 'tomato paste']\n",
      "\n",
      "Top 5 Original Recipe ID: 302000 - ww tomato salad with red onion and basil 2 points\n",
      " Ingredients: ['red wine vinegar', 'olive oil', 'sugar', 'salt', 'dijon mustard', 'fresh ground pepper', 'tomatoes', 'red onion', 'fresh basil leaf']\n",
      "\n",
      "Top 6 Original Recipe ID: 384471 - bluenana smoothie\n",
      " Ingredients: ['blueberries', 'banana', 'lime juice', 'sugar', 'milk', 'ice']\n",
      "\n",
      "Top 7 Original Recipe ID: 347185 - herb butter for french bread\n",
      " Ingredients: ['french bread', 'butter', 'garlic clove', 'parsley', 'sage', 'green onion', 'fresh ground black pepper']\n",
      "\n",
      "Top 8 Original Recipe ID: 256081 - chef flower s simple avocado dip\n",
      " Ingredients: ['onion', 'avocado', 'lemon juice', 'tomatoes', 'olive oil', 'salt', 'black pepper']\n"
     ]
    }
   ],
   "source": [
    "recommendations = getRecommendations(12, 8)"
   ]
  }
 ],
 "metadata": {
  "kernelspec": {
   "display_name": "Python 3",
   "language": "python",
   "name": "python3"
  },
  "language_info": {
   "codemirror_mode": {
    "name": "ipython",
    "version": 3
   },
   "file_extension": ".py",
   "mimetype": "text/x-python",
   "name": "python",
   "nbconvert_exporter": "python",
   "pygments_lexer": "ipython3",
   "version": "3.9.6"
  }
 },
 "nbformat": 4,
 "nbformat_minor": 2
}

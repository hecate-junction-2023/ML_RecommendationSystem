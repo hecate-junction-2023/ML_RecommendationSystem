{
 "cells": [
  {
   "cell_type": "markdown",
   "metadata": {},
   "source": [
    "# A Recommendation Engine for The Recipes by Using Collaborative Filtering in Python"
   ]
  },
  {
   "cell_type": "markdown",
   "source": [
    "#### About the Dataset:\n",
    "pre-existing dataset for food.com from Kaggle, which includes two CSV files. One is the interactions_train CSV file containing around 160,000 recipe IDs rated by 25,000 user IDs in a total of 699,000 records, and the other is the RAW_recipes CSV file containing 230,000 recipes with names, ingredients, description, and steps, etc."
   ],
   "metadata": {
    "collapsed": false
   }
  },
  {
   "cell_type": "code",
   "execution_count": 1,
   "outputs": [],
   "source": [
    "import numpy as np\n",
    "import pandas as pd\n",
    "from sklearn.model_selection import train_test_split\n",
    "from sklearn.metrics.pairwise import pairwise_distances"
   ],
   "metadata": {
    "collapsed": false,
    "ExecuteTime": {
     "end_time": "2023-11-11T18:41:15.999076600Z",
     "start_time": "2023-11-11T18:41:14.551394300Z"
    }
   }
  },
  {
   "cell_type": "code",
   "execution_count": 2,
   "metadata": {
    "scrolled": true,
    "ExecuteTime": {
     "end_time": "2023-11-11T18:41:24.595611400Z",
     "start_time": "2023-11-11T18:41:16.088077600Z"
    }
   },
   "outputs": [],
   "source": [
    "interactions_data = pd.read_csv('./Data_Files/interactions_train.csv')\n",
    "recipes_data = pd.read_csv('./Data_Files/RAW_recipes.csv')"
   ]
  },
  {
   "cell_type": "markdown",
   "metadata": {},
   "source": [
    "## Data Preprocessing"
   ]
  },
  {
   "cell_type": "markdown",
   "source": [
    "We reate a new DataFrame _all by dropping unnecessary columns ('date', 'u', 'i') from the 'interactions_train.csv' dataset."
   ],
   "metadata": {
    "collapsed": false
   }
  },
  {
   "cell_type": "code",
   "execution_count": 3,
   "metadata": {
    "scrolled": true,
    "ExecuteTime": {
     "end_time": "2023-11-11T18:41:24.613384700Z",
     "start_time": "2023-11-11T18:41:24.597613700Z"
    }
   },
   "outputs": [],
   "source": [
    "interactions_data_new = interactions_data.drop(['date', 'u', 'i'], axis = 1)"
   ]
  },
  {
   "cell_type": "markdown",
   "source": [
    "We group the data by 'user_id', count the number of recipes each user has reviewed, rename the column, and select the top 7500 users based on the number of reviews."
   ],
   "metadata": {
    "collapsed": false
   }
  },
  {
   "cell_type": "code",
   "execution_count": 4,
   "metadata": {
    "scrolled": true,
    "ExecuteTime": {
     "end_time": "2023-11-11T18:41:24.654428800Z",
     "start_time": "2023-11-11T18:41:24.618895100Z"
    }
   },
   "outputs": [],
   "source": [
    "grouped_users = interactions_data_new.groupby(['user_id'], as_index = False, sort = False).agg({'recipe_id':'count'}).reset_index(drop = True)\n",
    "grouped_users = grouped_users.rename(columns = {'recipe_id':'reviews_count'})\n",
    "grouped_users = grouped_users.sort_values('reviews_count', ascending = False).iloc[:7500,:]"
   ]
  },
  {
   "cell_type": "markdown",
   "source": [
    "Similarly, we group the data by 'recipe_id', count the number of reviews for each recipe, rename the column, and select the top 7500 recipes based on the number of reviews."
   ],
   "metadata": {
    "collapsed": false
   }
  },
  {
   "cell_type": "code",
   "execution_count": 5,
   "metadata": {
    "scrolled": true,
    "ExecuteTime": {
     "end_time": "2023-11-11T18:41:24.709345500Z",
     "start_time": "2023-11-11T18:41:24.655428100Z"
    }
   },
   "outputs": [],
   "source": [
    "grouped_recipes = interactions_data_new.groupby(['recipe_id'], as_index = False, sort = False).agg({'user_id':'count'}).reset_index(drop = True)\n",
    "grouped_recipes = grouped_recipes.rename(columns = {'user_id':'reviews_count'})\n",
    "grouped_recipes = grouped_recipes.sort_values('reviews_count', ascending = False).iloc[:7500,:]"
   ]
  },
  {
   "cell_type": "markdown",
   "source": [
    "We merge the original data with the user and recipe information, removing unnecessary columns."
   ],
   "metadata": {
    "collapsed": false
   }
  },
  {
   "cell_type": "code",
   "execution_count": 6,
   "metadata": {
    "scrolled": false,
    "ExecuteTime": {
     "end_time": "2023-11-11T18:41:27.403644100Z",
     "start_time": "2023-11-11T18:41:27.233440600Z"
    }
   },
   "outputs": [],
   "source": [
    "merged_data = pd.merge(interactions_data_new.merge(grouped_users).drop(['reviews_count'], axis = 1), grouped_recipes).drop(['reviews_count'], axis = 1)"
   ]
  },
  {
   "cell_type": "markdown",
   "source": [
    "The following lines create new DataFrames, grouped_user and grouped_recipe, by grouping data by user and recipe and counting the number of reviews for each."
   ],
   "metadata": {
    "collapsed": false
   }
  },
  {
   "cell_type": "code",
   "execution_count": 7,
   "metadata": {
    "scrolled": true,
    "ExecuteTime": {
     "end_time": "2023-11-11T18:41:29.524093400Z",
     "start_time": "2023-11-11T18:41:29.497648200Z"
    }
   },
   "outputs": [],
   "source": [
    "grouped_user = merged_data.groupby(['user_id'], as_index = False, sort = False).agg({'recipe_id':'count'}).reset_index(drop = True)\n",
    "grouped_user = grouped_user.rename(columns = {'recipe_id':'reviews_count'})\n",
    "\n",
    "grouped_recipe = merged_data.groupby(['recipe_id'], as_index = False, sort = False).agg({'user_id':'count'}).reset_index(drop = True)\n",
    "grouped_recipe = grouped_recipe.rename(columns = {'user_id':'reviews_count'})"
   ]
  },
  {
   "cell_type": "markdown",
   "source": [
    "These lines create dictionaries to map original user and recipe IDs to new IDs."
   ],
   "metadata": {
    "collapsed": false
   }
  },
  {
   "cell_type": "code",
   "execution_count": 8,
   "metadata": {
    "scrolled": true,
    "ExecuteTime": {
     "end_time": "2023-11-11T18:41:31.375073400Z",
     "start_time": "2023-11-11T18:41:31.349517500Z"
    }
   },
   "outputs": [],
   "source": [
    "new_userID = dict(zip(list(merged_data['user_id'].unique()),\n",
    "                      list(range(len(merged_data['user_id'].unique())))))\n",
    "\n",
    "new_recipeID = dict(zip(list(merged_data['recipe_id'].unique()),\n",
    "                      list(range(len(merged_data['recipe_id'].unique())))))"
   ]
  },
  {
   "cell_type": "markdown",
   "source": [
    "It replaces the original user and recipe IDs in the dataset with the new IDs."
   ],
   "metadata": {
    "collapsed": false
   }
  },
  {
   "cell_type": "code",
   "execution_count": 9,
   "metadata": {
    "ExecuteTime": {
     "end_time": "2023-11-11T18:42:01.199804800Z",
     "start_time": "2023-11-11T18:41:33.363599200Z"
    }
   },
   "outputs": [],
   "source": [
    "df = merged_data.replace({'user_id': new_userID, 'recipe_id': new_recipeID})"
   ]
  },
  {
   "cell_type": "markdown",
   "source": [
    "We creates a new DataFrame recipe by merging recipe names and ingredients with the updated dataset."
   ],
   "metadata": {
    "collapsed": false
   }
  },
  {
   "cell_type": "code",
   "execution_count": 10,
   "metadata": {
    "scrolled": false,
    "ExecuteTime": {
     "end_time": "2023-11-11T18:42:01.428373Z",
     "start_time": "2023-11-11T18:42:01.199804800Z"
    }
   },
   "outputs": [],
   "source": [
    "recipe = recipes_data[['name', 'id', 'ingredients']].merge(merged_data[['recipe_id']], left_on = 'id', right_on = 'recipe_id', how = 'right').drop(['id'], axis = 1).drop_duplicates().reset_index(drop = True)"
   ]
  },
  {
   "cell_type": "markdown",
   "source": [
    "Now we calculate the mean rating for each user and add columns for the mean rating and adjusted rating to the dataset."
   ],
   "metadata": {
    "collapsed": false
   }
  },
  {
   "cell_type": "code",
   "execution_count": 11,
   "metadata": {
    "ExecuteTime": {
     "end_time": "2023-11-11T18:42:01.486211100Z",
     "start_time": "2023-11-11T18:42:01.428373Z"
    }
   },
   "outputs": [],
   "source": [
    "mean = df.groupby(['user_id'], as_index = False, sort = False).mean().rename(columns = {'rating':'mean_rating'})\n",
    "df = df.merge(mean[['user_id','mean_rating']], how = 'left')\n",
    "df.insert(2, 'adjusted_rating', df['rating'] - df['mean_rating'])"
   ]
  },
  {
   "cell_type": "markdown",
   "source": [
    "We split the dataset into training and testing sets for model evaluation."
   ],
   "metadata": {
    "collapsed": false
   }
  },
  {
   "cell_type": "code",
   "execution_count": 12,
   "metadata": {
    "scrolled": true,
    "ExecuteTime": {
     "end_time": "2023-11-11T18:42:01.510925200Z",
     "start_time": "2023-11-11T18:42:01.486211100Z"
    }
   },
   "outputs": [],
   "source": [
    "train_data, test_data = train_test_split(df, test_size = 0.25)"
   ]
  },
  {
   "cell_type": "markdown",
   "source": [
    "These lines create a user-item matrix for the training data, where each entry represents a user's rating for a recipe."
   ],
   "metadata": {
    "collapsed": false
   }
  },
  {
   "cell_type": "code",
   "execution_count": 13,
   "metadata": {
    "ExecuteTime": {
     "end_time": "2023-11-11T18:42:01.861623300Z",
     "start_time": "2023-11-11T18:42:01.510925200Z"
    }
   },
   "outputs": [],
   "source": [
    "number_users = df.user_id.unique()\n",
    "number_items = df.recipe_id.unique()\n",
    "\n",
    "train_data_matrix = np.zeros((number_users.shape[0], number_items.shape[0]))\n",
    "for row in train_data.itertuples():\n",
    "    train_data_matrix[row[1]-1, row[2]-1] = row[3]"
   ]
  },
  {
   "cell_type": "markdown",
   "source": [
    "Similarly, we create a user-item matrix for the testing data."
   ],
   "metadata": {
    "collapsed": false
   }
  },
  {
   "cell_type": "code",
   "execution_count": 14,
   "metadata": {
    "ExecuteTime": {
     "end_time": "2023-11-11T18:42:01.994086900Z",
     "start_time": "2023-11-11T18:42:01.862526Z"
    }
   },
   "outputs": [],
   "source": [
    "test_data_matrix = np.zeros((number_users.shape[0], number_items.shape[0]))\n",
    "for row in test_data.itertuples():\n",
    "    test_data_matrix[row[1]-1, row[2]-1] = row[3]"
   ]
  },
  {
   "cell_type": "markdown",
   "metadata": {},
   "source": [
    "## Centered cosine similarity"
   ]
  },
  {
   "cell_type": "markdown",
   "source": [
    "We calculates user similarity based on the centered cosine similarity metric."
   ],
   "metadata": {
    "collapsed": false
   }
  },
  {
   "cell_type": "code",
   "execution_count": 15,
   "metadata": {
    "ExecuteTime": {
     "end_time": "2023-11-11T18:42:07.863034200Z",
     "start_time": "2023-11-11T18:42:01.998087300Z"
    }
   },
   "outputs": [],
   "source": [
    "user_similarity = 1 - pairwise_distances(train_data_matrix, metric = 'cosine')"
   ]
  },
  {
   "cell_type": "markdown",
   "metadata": {},
   "source": [
    "## Prediction of ratings"
   ]
  },
  {
   "cell_type": "markdown",
   "source": [
    "This function predict takes user ratings, similarity matrix, and type ('user' or 'item') as input and returns the predicted ratings."
   ],
   "metadata": {
    "collapsed": false
   }
  },
  {
   "cell_type": "code",
   "execution_count": 16,
   "metadata": {
    "ExecuteTime": {
     "end_time": "2023-11-11T18:42:07.887070Z",
     "start_time": "2023-11-11T18:42:07.869757500Z"
    }
   },
   "outputs": [],
   "source": [
    "def predict(ratings, similarity):\n",
    "    pred = similarity.dot(ratings) / np.array([np.abs(similarity).sum(axis = np.newaxis)]) \n",
    "    return pred"
   ]
  },
  {
   "cell_type": "markdown",
   "source": [
    "We generate user-based predictions for the training data."
   ],
   "metadata": {
    "collapsed": false
   }
  },
  {
   "cell_type": "code",
   "execution_count": 17,
   "metadata": {
    "ExecuteTime": {
     "end_time": "2023-11-11T18:42:20.312780600Z",
     "start_time": "2023-11-11T18:42:07.879071900Z"
    }
   },
   "outputs": [],
   "source": [
    "prediction = predict(train_data_matrix, user_similarity)"
   ]
  },
  {
   "cell_type": "markdown",
   "source": [
    "Next we are creating a DataFrame containing user-based predictions for each recipe."
   ],
   "metadata": {
    "collapsed": false
   }
  },
  {
   "cell_type": "code",
   "execution_count": 18,
   "metadata": {
    "ExecuteTime": {
     "end_time": "2023-11-11T18:42:20.453636700Z",
     "start_time": "2023-11-11T18:42:20.303649800Z"
    }
   },
   "outputs": [],
   "source": [
    "prediction_df = pd.DataFrame(prediction, columns = list(number_items))\n",
    "prediction_df.insert(0, 'user_id', list(number_users))"
   ]
  },
  {
   "cell_type": "markdown",
   "metadata": {},
   "source": [
    "## Recommendation Engine"
   ]
  },
  {
   "cell_type": "markdown",
   "source": [
    "This function getRecommendations_UserBased takes a user ID and the number of top recommendations as input and prints the top recommended recipes for that user."
   ],
   "metadata": {
    "collapsed": false
   }
  },
  {
   "cell_type": "code",
   "execution_count": 25,
   "metadata": {
    "ExecuteTime": {
     "end_time": "2023-11-11T18:46:08.868518800Z",
     "start_time": "2023-11-11T18:46:08.865378400Z"
    }
   },
   "outputs": [],
   "source": [
    "def get_recommendations(user_id, top_n = 10):\n",
    "    for old_user, new_user in new_userID.items():\n",
    "        if user_id == new_user:\n",
    "            print(f'Top {top_n} Recommended Recipes for Original User ID: {old_user}\\n')\n",
    "    \n",
    "    recipes_rated = list(df['recipe_id'].loc[df['user_id'] == user_id])\n",
    "    predictions = prediction_df.loc[prediction_df['user_id'] == user_id].copy()\n",
    "    predictions.drop(prediction_df[recipes_rated], axis = 1, inplace = True)\n",
    "    unwatch_sorted = prediction_df.iloc[:,1:].sort_values(by = predictions.index[0], axis = 1, ascending = False)\n",
    "    top_preds = unwatch_sorted.iloc[:, :top_n].to_dict(orient = 'records')\n",
    "\n",
    "    i = 1\n",
    "    for recipe_id in list(top_preds[0].keys()):\n",
    "        for old_recipe, new_recipe in new_recipeID.items():\n",
    "            if recipe_id == new_recipe:\n",
    "                name = recipe[recipe['recipe_id'] == old_recipe]['name'].values[0]\n",
    "                ingredients = recipe[recipe['recipe_id'] == old_recipe]['ingredients'].values[0]\n",
    "\n",
    "                print(f'Top {i} Original Recipe ID: {old_recipe} - {name}\\n Ingredients: {ingredients}\\n')\n",
    "                \n",
    "                i += 1\n",
    "                \n",
    "    return top_preds[0]"
   ]
  },
  {
   "cell_type": "markdown",
   "source": [
    "It calls the getRecommendations_UserBased function for a specific user ID (702) and displays the top 10 recommendations."
   ],
   "metadata": {
    "collapsed": false
   }
  },
  {
   "cell_type": "code",
   "execution_count": 26,
   "outputs": [
    {
     "name": "stdout",
     "output_type": "stream",
     "text": [
      "Top 10 Recommended Recipes for Original User ID: 11044\n",
      "Top 1 Original Recipe ID: 210757 - weight watchers broccoli cheese soup   2 pts per cup\n",
      " Ingredients: ['chicken broth', 'frozen broccoli', 'tomatoes and green chilies', 'velveeta reduced fat cheese product']\n",
      "\n",
      "Top 2 Original Recipe ID: 97838 - super easy honey curry chicken\n",
      " Ingredients: ['chicken thighs', 'butter', 'honey', 'mustard', 'salt', 'curry powder']\n",
      "\n",
      "Top 3 Original Recipe ID: 4571 - layer cookies  magic layer bars\n",
      " Ingredients: ['butter', 'graham cracker', 'flaked coconut', 'chocolate chips', 'butterscotch chips', 'sweetened condensed milk', 'nuts']\n",
      "\n",
      "Top 4 Original Recipe ID: 13640 - mifgash mushrooms\n",
      " Ingredients: ['oil', 'onion', 'button mushroom', 'soup mix', 'paprika', 'black pepper', 'water']\n",
      "\n",
      "Top 5 Original Recipe ID: 68091 - fake rotisserie chicken\n",
      " Ingredients: ['chicken', 'onion', 'lemon', 'tarragon', 'soy sauce']\n",
      "\n",
      "Top 6 Original Recipe ID: 100474 - easy crispy taco turnovers\n",
      " Ingredients: ['lean ground beef', 'onion', 'garlic', 'salt', 'chili powder', 'monterey jack cheese', 'diced tomato', 'jalapenos', 'wheat flour tortillas', 'oil']\n",
      "\n",
      "Top 7 Original Recipe ID: 117570 - sage and rosemary pork chops\n",
      " Ingredients: ['pork loin chops', 'olive oil', 'dried sage', 'black and red pepper blend', 'dried rosemary leaves', 'salt']\n",
      "\n",
      "Top 8 Original Recipe ID: 90331 - breaded  n baked zucchini chips\n",
      " Ingredients: ['zucchini', 'egg', 'milk', 'garlic', 'italian breadcrumbs', 'parmesan cheese', 'fresh parsley', 'black pepper']\n",
      "\n",
      "Top 9 Original Recipe ID: 48494 - baked latkes\n",
      " Ingredients: ['potatoes', 'onion', 'eggs', 'salt', 'matzo meal', 'baking powder', 'nonstick cooking spray']\n",
      "\n",
      "Top 10 Original Recipe ID: 79595 - best twice baked potatoes\n",
      " Ingredients: ['potatoes', 'sour cream', 'milk', 'margarine', 'sharp cheddar cheese', 'salt', 'pepper', 'bacon']\n"
     ]
    }
   ],
   "source": [
    "recommendation2 = get_recommendations(1)"
   ],
   "metadata": {
    "collapsed": false,
    "ExecuteTime": {
     "end_time": "2023-11-11T18:46:12.775980500Z",
     "start_time": "2023-11-11T18:46:11.866521500Z"
    }
   }
  },
  {
   "cell_type": "markdown",
   "source": [
    "Similarly, it calls the getRecommendations_UserBased function for another user ID (408) with a specified number of top 5 recommendations."
   ],
   "metadata": {
    "collapsed": false
   }
  },
  {
   "cell_type": "code",
   "execution_count": 28,
   "metadata": {
    "scrolled": true,
    "ExecuteTime": {
     "end_time": "2023-11-11T18:14:08.782303600Z",
     "start_time": "2023-11-11T18:14:08.759087100Z"
    }
   },
   "outputs": [
    {
     "name": "stdout",
     "output_type": "stream",
     "text": [
      "Top 8 Recommended Recipes for Original User ID: 29063\n",
      "\n",
      "Top 1 Original Recipe ID: 3368 - blackberry pie iii\n",
      " Ingredients: ['sugar', 'all-purpose flour', 'cornstarch', 'salt', 'blackberries', 'pastry for double-crust pie']\n",
      "\n",
      "Top 2 Original Recipe ID: 308022 - summer egg and bacon scramble\n",
      " Ingredients: ['onion', 'red pepper', 'olive oil', 'eggs', 'milk', 'bacon', 'toast', 'salt and pepper']\n",
      "\n",
      "Top 3 Original Recipe ID: 363073 - kristen s grilled cheese and red onion sandwich\n",
      " Ingredients: ['rye bread', 'red onions', 'cheddar cheese', 'butter', 'pepper']\n",
      "\n",
      "Top 4 Original Recipe ID: 273838 - moroccan harira soup\n",
      " Ingredients: ['lentils', 'olive oil', 'onion', 'fresh parsley', 'cilantro', 'ground ginger', 'cinnamon', 'diced tomatoes', 'vegetable broth', 'chickpeas', 'orzo pasta', 'flour', 'lemon juice', 'tomato paste']\n",
      "\n",
      "Top 5 Original Recipe ID: 302000 - ww tomato salad with red onion and basil 2 points\n",
      " Ingredients: ['red wine vinegar', 'olive oil', 'sugar', 'salt', 'dijon mustard', 'fresh ground pepper', 'tomatoes', 'red onion', 'fresh basil leaf']\n",
      "\n",
      "Top 6 Original Recipe ID: 384471 - bluenana smoothie\n",
      " Ingredients: ['blueberries', 'banana', 'lime juice', 'sugar', 'milk', 'ice']\n",
      "\n",
      "Top 7 Original Recipe ID: 347185 - herb butter for french bread\n",
      " Ingredients: ['french bread', 'butter', 'garlic clove', 'parsley', 'sage', 'green onion', 'fresh ground black pepper']\n",
      "\n",
      "Top 8 Original Recipe ID: 256081 - chef flower s simple avocado dip\n",
      " Ingredients: ['onion', 'avocado', 'lemon juice', 'tomatoes', 'olive oil', 'salt', 'black pepper']\n"
     ]
    }
   ],
   "source": [
    "recommendations = get_recommendations(12, 8)"
   ]
  }
 ],
 "metadata": {
  "kernelspec": {
   "display_name": "Python 3",
   "language": "python",
   "name": "python3"
  },
  "language_info": {
   "codemirror_mode": {
    "name": "ipython",
    "version": 3
   },
   "file_extension": ".py",
   "mimetype": "text/x-python",
   "name": "python",
   "nbconvert_exporter": "python",
   "pygments_lexer": "ipython3",
   "version": "3.9.6"
  }
 },
 "nbformat": 4,
 "nbformat_minor": 2
}
